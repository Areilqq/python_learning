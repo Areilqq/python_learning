{
  "nbformat": 4,
  "nbformat_minor": 0,
  "metadata": {
    "kernelspec": {
      "display_name": "Python 3",
      "language": "python",
      "name": "python3"
    },
    "language_info": {
      "codemirror_mode": {
        "name": "ipython",
        "version": 3
      },
      "file_extension": ".py",
      "mimetype": "text/x-python",
      "name": "python",
      "nbconvert_exporter": "python",
      "pygments_lexer": "ipython3",
      "version": "3.7.2"
    },
    "colab": {
      "provenance": []
    }
  },
  "cells": [
    {
      "cell_type": "markdown",
      "metadata": {
        "id": "JoeEHEJwVDG0"
      },
      "source": [
        "# Assignment 2"
      ]
    },
    {
      "cell_type": "markdown",
      "metadata": {
        "id": "q1cTiJ0CVDG4"
      },
      "source": [
        "**Generative AI rule:** For this assignment, you are allowed to use generative AI tools for assistance, but the code must be your original work—any code that is not your own will be considered cheating.\n",
        "\n",
        "## Data\n",
        "\n",
        "This is a historical dataset on the modern Olympic Games, including all the Games from Athens 1896 to Rio 2016. The data was taken from Kaggle. The `athlete_events` Dataset contains $271,116$ rows and $15$ columns.\n",
        "\n",
        "**Important note**: Athletes with the same name might not be the same individuals. To accurately distinguish them, make sure to use their unique IDs.\n",
        "\n",
        "**ATTRIBUTES:**\n",
        "\n",
        "**athlete_events.csv**\n",
        "\n",
        "| Column Name | Data Type | Description/Notes |\n",
        "|:----:|:----:|:----|\n",
        "| ID |  integer | Unique number for each athlete |\n",
        "| Name | string | Athlete’s name |\n",
        "| Sex | string | M or F |\n",
        "| Age | integer |  |\n",
        "| Height | integer | In centimeters |\n",
        "| Weight | integer | In kilograms |\n",
        "| Team | string | Team name |\n",
        "| NOC | string | National Olympic Committee, 3 letter code (Matches with `NOC` from noc_regions.csv) |\n",
        "| Games | string | Year and season |\n",
        "| Year | integer |  |\n",
        "| Season | string | Summer or Winter |\n",
        "| City | string | Host city |\n",
        "| Sport | string |  |\n",
        "| Event | string |  |\n",
        "| Medal | string | Gold, Silver, Bronze, or NA |\n",
        "\n",
        "**Source:** Griffin, R, H (2018) 120 years of Olympic history: athletes and results, athlete_events, Found at: https://www.kaggle.com/heesoo37/120-years-of-olympic-history-athletes-and-results#athlete_events.csv"
      ]
    },
    {
      "cell_type": "markdown",
      "metadata": {
        "id": "R5zo_vISVDG5"
      },
      "source": [
        "Download athlete_events.csv from the link above and load it into a DataFrame called `athlete_events`:"
      ]
    },
    {
      "cell_type": "code",
      "metadata": {
        "id": "azkCFhd2VDG5"
      },
      "source": [
        "# Your code goes here\n",
        "import pandas as pd\n",
        "df = pd.read_csv('athlete_events.csv')"
      ],
      "execution_count": 7,
      "outputs": []
    },
    {
      "cell_type": "markdown",
      "metadata": {
        "id": "8IQhitmAVDG5"
      },
      "source": [
        "Use `info()` method on this DataFrame to get a sense of the data:"
      ]
    },
    {
      "cell_type": "code",
      "metadata": {
        "colab": {
          "base_uri": "https://localhost:8080/"
        },
        "id": "h-aNF7hJVDG6",
        "outputId": "b885ce32-42c1-4ef0-cba9-1bf9c97b57b0"
      },
      "source": [
        "# Your code goes here\n",
        "df.info()"
      ],
      "execution_count": 8,
      "outputs": [
        {
          "output_type": "stream",
          "name": "stdout",
          "text": [
            "<class 'pandas.core.frame.DataFrame'>\n",
            "RangeIndex: 271116 entries, 0 to 271115\n",
            "Data columns (total 15 columns):\n",
            " #   Column  Non-Null Count   Dtype  \n",
            "---  ------  --------------   -----  \n",
            " 0   ID      271116 non-null  int64  \n",
            " 1   Name    271116 non-null  object \n",
            " 2   Sex     271116 non-null  object \n",
            " 3   Age     261642 non-null  float64\n",
            " 4   Height  210945 non-null  float64\n",
            " 5   Weight  208241 non-null  float64\n",
            " 6   Team    271116 non-null  object \n",
            " 7   NOC     271116 non-null  object \n",
            " 8   Games   271116 non-null  object \n",
            " 9   Year    271116 non-null  int64  \n",
            " 10  Season  271116 non-null  object \n",
            " 11  City    271116 non-null  object \n",
            " 12  Sport   271116 non-null  object \n",
            " 13  Event   271116 non-null  object \n",
            " 14  Medal   39783 non-null   object \n",
            "dtypes: float64(3), int64(2), object(10)\n",
            "memory usage: 31.0+ MB\n"
          ]
        }
      ]
    },
    {
      "cell_type": "markdown",
      "metadata": {
        "id": "etJYnbkwVDG6"
      },
      "source": [
        "## Question 1\n",
        "\n",
        "Identify athletes who meet all of the following criteria:\n",
        "\n",
        "- They are male (Sex is \"M\").\n",
        "- Their age is below 25.\n",
        "- They have participated in the Summer Olympics.\n",
        "- They have won a medal.\n",
        "\n",
        "Once you have filtered the athletes based on the above criteria, calculate the average height and weight of these athletes."
      ]
    },
    {
      "cell_type": "code",
      "metadata": {
        "id": "3NGbSoxGVDG7"
      },
      "source": [
        "# Your code goes here\n",
        "filtered_athletes = df[\n",
        "    (df['Sex'] == 'M') &\n",
        "    (df['Age'] < 25) &\n",
        "    (df['Season'] == 'Summer') &\n",
        "    (df['Medal'].notna())]"
      ],
      "execution_count": 16,
      "outputs": []
    },
    {
      "cell_type": "code",
      "source": [
        "print(filtered_athletes)"
      ],
      "metadata": {
        "id": "6DtLjnCWnSL7",
        "outputId": "c85e8784-51e1-47f5-e415-3fb2fe372354",
        "colab": {
          "base_uri": "https://localhost:8080/"
        }
      },
      "execution_count": 12,
      "outputs": [
        {
          "output_type": "stream",
          "name": "stdout",
          "text": [
            "            ID                             Name Sex   Age  Height  Weight  \\\n",
            "86          25                 Alf Lied Aanning   M  24.0     NaN     NaN   \n",
            "106         38                     Karl Jan Aas   M  20.0     NaN     NaN   \n",
            "150         56                       Ren Abadie   M  21.0     NaN     NaN   \n",
            "158         62                Giovanni Abagnale   M  21.0   198.0    90.0   \n",
            "173         73                        Luc Abalo   M  23.0   182.0    86.0   \n",
            "...        ...                              ...  ..   ...     ...     ...   \n",
            "270960  135498                     Denis vegelj   M  20.0     NaN     NaN   \n",
            "270981  135503                  Zurab Zviadauri   M  23.0   182.0    90.0   \n",
            "271010  135521                    Anton Zwerina   M  23.0     NaN    66.0   \n",
            "271013  135522  Klaas Erik \"Klaas-Erik\" Zwering   M  23.0   189.0    80.0   \n",
            "271046  135544               Krzysztof Zwoliski   M  21.0   175.0    70.0   \n",
            "\n",
            "               Team  NOC        Games  Year  Season            City  \\\n",
            "86           Norway  NOR  1920 Summer  1920  Summer       Antwerpen   \n",
            "106          Norway  NOR  1920 Summer  1920  Summer       Antwerpen   \n",
            "150          France  FRA  1956 Summer  1956  Summer       Melbourne   \n",
            "158           Italy  ITA  2016 Summer  2016  Summer  Rio de Janeiro   \n",
            "173          France  FRA  2008 Summer  2008  Summer         Beijing   \n",
            "...             ...  ...          ...   ...     ...             ...   \n",
            "270960     Slovenia  SLO  1992 Summer  1992  Summer       Barcelona   \n",
            "270981      Georgia  GEO  2004 Summer  2004  Summer          Athina   \n",
            "271010      Austria  AUT  1924 Summer  1924  Summer           Paris   \n",
            "271013  Netherlands  NED  2004 Summer  2004  Summer          Athina   \n",
            "271046       Poland  POL  1980 Summer  1980  Summer          Moskva   \n",
            "\n",
            "                Sport                                          Event   Medal  \n",
            "86         Gymnastics  Gymnastics Men's Team All-Around, Free System  Silver  \n",
            "106        Gymnastics  Gymnastics Men's Team All-Around, Free System  Silver  \n",
            "150           Cycling                  Cycling Men's Road Race, Team    Gold  \n",
            "158            Rowing                     Rowing Men's Coxless Pairs  Bronze  \n",
            "173          Handball                        Handball Men's Handball    Gold  \n",
            "...               ...                                            ...     ...  \n",
            "270960         Rowing                     Rowing Men's Coxless Pairs  Bronze  \n",
            "270981           Judo                        Judo Men's Middleweight    Gold  \n",
            "271010  Weightlifting                Weightlifting Men's Lightweight  Silver  \n",
            "271013       Swimming  Swimming Men's 4 x 100 metres Freestyle Relay  Silver  \n",
            "271046      Athletics           Athletics Men's 4 x 100 metres Relay  Silver  \n",
            "\n",
            "[10558 rows x 15 columns]\n"
          ]
        }
      ]
    },
    {
      "cell_type": "code",
      "metadata": {
        "id": "2c6a399b",
        "outputId": "eb687371-8b8f-4c6e-d079-e1f5e20c8868",
        "colab": {
          "base_uri": "https://localhost:8080/"
        }
      },
      "source": [
        "# Calculate the average height and weight\n",
        "average_height = filtered_athletes['Height'].mean()\n",
        "average_weight = filtered_athletes['Weight'].mean()\n",
        "\n",
        "print(f\"Average height of filtered athletes: {average_height:.2f} cm\")\n",
        "print(f\"Average weight of filtered athletes: {average_weight:.2f} kg\")"
      ],
      "execution_count": 13,
      "outputs": [
        {
          "output_type": "stream",
          "name": "stdout",
          "text": [
            "Average height of filtered athletes: 181.07 cm\n",
            "Average weight of filtered athletes: 77.58 kg\n"
          ]
        }
      ]
    },
    {
      "cell_type": "markdown",
      "metadata": {
        "id": "iEhLEXLZVDG7"
      },
      "source": [
        "## Question 2\n",
        "\n",
        "Using the dataset, group the athletes by \"Team\" and calculate the following for each team:\n",
        "\n",
        "- Which team has the maximum number of atheletes?\n",
        "- Which team has competed in the highest number of distinct sports?\n"
      ]
    },
    {
      "cell_type": "code",
      "metadata": {
        "id": "muosk0LbVDG8"
      },
      "source": [
        "# Your code goes here"
      ],
      "execution_count": null,
      "outputs": []
    },
    {
      "cell_type": "markdown",
      "metadata": {
        "id": "kGN2cpdHVDG8"
      },
      "source": [
        "## Question 3\n",
        "\n",
        "**True or False?**\n",
        "\n",
        "> The average height of athletes who won a medal in Speed Skating is greater than the average height of athletes who won a medal in Basketball.\n",
        "\n",
        "Write code to determine if this statement is True or False."
      ]
    },
    {
      "cell_type": "code",
      "metadata": {
        "id": "zLbAGH-ZVDG8"
      },
      "source": [
        "# Your code goes here"
      ],
      "execution_count": null,
      "outputs": []
    },
    {
      "cell_type": "markdown",
      "metadata": {
        "id": "SDhudi_MVDG9"
      },
      "source": [
        "## Question 4\n",
        "\n",
        "Identify athletes who have participated in multiple Olympic events (more than one unique event). For these athletes:\n",
        "\n",
        "- Calculate the sum of the total number of events they participated in altogether.\n",
        "- Identify the athletes who have won at least two medals (any type of medal).  How many such atheletes are there?"
      ]
    },
    {
      "cell_type": "code",
      "metadata": {
        "id": "GTXjS7ZGVDG9"
      },
      "source": [
        "# Your code goes here"
      ],
      "execution_count": null,
      "outputs": []
    },
    {
      "cell_type": "markdown",
      "metadata": {
        "id": "nTqj2HYXVDG9"
      },
      "source": [
        "## Question 5\n",
        "\n",
        "Identify all athletes who have won at least one medal and have participated in two or more different sports. For these athletes:\n",
        "\n",
        "- Find the total number of different sports each of them participated in. Which athlete has the highest number of sports? And how many?\n",
        "- Calculate the average number of medals won by these athletes. Which athlete has the maximum number of medals? And how many?"
      ]
    },
    {
      "cell_type": "code",
      "metadata": {
        "id": "ZsoZoa2nVDG-"
      },
      "source": [
        "# Your code goes here"
      ],
      "execution_count": null,
      "outputs": []
    },
    {
      "cell_type": "markdown",
      "metadata": {
        "id": "b6JJSfHiVDG-"
      },
      "source": [
        "## Question 6\n",
        "\n",
        "Identify the top 3 most common sports in which athletes have won a Gold medal. List the sports in descending order of frequency."
      ]
    },
    {
      "cell_type": "code",
      "metadata": {
        "id": "QJB0tpFOVDG-"
      },
      "source": [
        "# Your code goes here"
      ],
      "execution_count": null,
      "outputs": []
    },
    {
      "cell_type": "markdown",
      "source": [
        "## Question 7\n",
        "\n",
        "As part of a sponsorship deal, a company wants to endorse athletes who have a consistent performance in the Olympics. The company defines consistency for athletes who have participated more than one year and those who have won at least one medal in every year.\n",
        "\n",
        "How many such athletes exist?\n",
        "\n"
      ],
      "metadata": {
        "id": "ZRcRJsx8YDef"
      }
    },
    {
      "cell_type": "code",
      "source": [
        "# Your code goes here"
      ],
      "metadata": {
        "id": "k76RQNAfZUkt"
      },
      "execution_count": null,
      "outputs": []
    },
    {
      "cell_type": "markdown",
      "source": [
        "## Question 8\n",
        "\n",
        "A sports analytics firm wants to identify athletes who have shown versatility by competing in both individual and team sports. The firm is particularly interested in those who have won at least one medal in both types of events.\n",
        "\n",
        "Provide the total number of athletes who have won medals in both individual and team sports.\n",
        "\n",
        "Note: The following is a list of all team sports to reference for this question:\n",
        "\n",
        "```\n",
        "['Basketball', 'Football', 'Tug-Of-War', 'Ice Hockey', 'Handball', 'Water Polo', 'Hockey', 'Rowing', 'Bobsleigh', 'Sailing', 'Baseball', 'Softball',\n",
        "'Rugby Sevens', 'Volleyball', 'Beach Volleyball', 'Synchronized Swimming' 'Curling', 'Lacrosse', 'Polo', 'Cricket', 'Military Ski Patrol', 'Croquet']\n",
        "```"
      ],
      "metadata": {
        "id": "b3MTXfoykQ4E"
      }
    },
    {
      "cell_type": "code",
      "source": [
        "# Your code goes here"
      ],
      "metadata": {
        "id": "3hlZ-1pkYNyH"
      },
      "execution_count": null,
      "outputs": []
    },
    {
      "cell_type": "markdown",
      "source": [
        "## Question 9\n",
        "\n",
        "A sports health association is analyzing athletes' BMI to assess fitness, defining \"fit\" as those in the Normal weight category.\n",
        "\n",
        "1. Create a **BMI** column using **Height** and **Weight**:  \n",
        "$BMI=\\frac{(Weight_{kg})}{Height_m^2}$\n",
        "\n",
        "Fill missing Height and Weight values with average within the same Sex group and round BMI to 1 decimal place.\n",
        "\n",
        "2. Count the number of \"fit\" athletes in the BMI range of 20-28 (inclusive).\n",
        "\n",
        "Note: some athletes might have different weights and heights over the years. Take an average over all their measurements."
      ],
      "metadata": {
        "id": "IJ19FSsv2P5X"
      }
    },
    {
      "cell_type": "code",
      "source": [
        "# Your code goes here"
      ],
      "metadata": {
        "id": "BGHU4E8v2qTK"
      },
      "execution_count": null,
      "outputs": []
    }
  ]
}